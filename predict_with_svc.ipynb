{
 "cells": [
  {
   "cell_type": "markdown",
   "id": "c826e5b0",
   "metadata": {},
   "source": [
    "# Predict with Trained SVC Model\n",
    "This notebook loads a saved SVC model and scaler, applies them to new data, and outputs predictions."
   ]
  },
  {
   "cell_type": "code",
   "execution_count": null,
   "id": "c4948193",
   "metadata": {},
   "outputs": [],
   "source": [
    "import pandas as pd\n",
    "import joblib"
   ]
  },
  {
   "cell_type": "markdown",
   "id": "05019381",
   "metadata": {},
   "source": [
    "## Load the saved model and scaler"
   ]
  },
  {
   "cell_type": "code",
   "execution_count": null,
   "id": "352528af",
   "metadata": {},
   "outputs": [],
   "source": [
    "# Load the saved model and scaler (ensure these files are in the same directory)\n",
    "model = joblib.load('svc_model.pkl')\n",
    "scaler = joblib.load('scaler.pkl')"
   ]
  },
  {
   "cell_type": "markdown",
   "id": "075f722f",
   "metadata": {},
   "source": [
    "## Load and preprocess new data"
   ]
  },
  {
   "cell_type": "code",
   "execution_count": null,
   "id": "9974387c",
   "metadata": {},
   "outputs": [],
   "source": [
    "# Load your new dataset (update the file path if needed)\n",
    "new_data = pd.read_csv('your_new_data.csv')\n",
    "\n",
    "# Drop the target column if it's present\n",
    "if 'PPMI_COHORT' in new_data.columns:\n",
    "    new_data = new_data.drop(columns=['PPMI_COHORT'])\n",
    "\n",
    "# Scale the features using the saved scaler\n",
    "new_data_scaled = scaler.transform(new_data)"
   ]
  },
  {
   "cell_type": "markdown",
   "id": "8bfc9006",
   "metadata": {},
   "source": [
    "## Make predictions"
   ]
  },
  {
   "cell_type": "code",
   "execution_count": null,
   "id": "4cc93680",
   "metadata": {},
   "outputs": [],
   "source": [
    "# Predict using the loaded model\n",
    "predictions = model.predict(new_data_scaled)\n",
    "\n",
    "# Optional: Decode numeric predictions to labels\n",
    "label_mapping = {0: 'Control', 1: 'PD'}\n",
    "decoded_predictions = [label_mapping[p] for p in predictions]"
   ]
  },
  {
   "cell_type": "markdown",
   "id": "ba734228",
   "metadata": {},
   "source": [
    "## Output predictions"
   ]
  },
  {
   "cell_type": "code",
   "execution_count": null,
   "id": "2cfc917d",
   "metadata": {},
   "outputs": [],
   "source": [
    "# Create and display prediction results\n",
    "output = pd.DataFrame({'Prediction': decoded_predictions})\n",
    "output"
   ]
  },
  {
   "cell_type": "code",
   "execution_count": null,
   "id": "11d04a57",
   "metadata": {},
   "outputs": [],
   "source": [
    "# Optional: Save predictions to CSV\n",
    "output.to_csv('predictions.csv', index=False)"
   ]
  }
 ],
 "metadata": {},
 "nbformat": 4,
 "nbformat_minor": 5
}
